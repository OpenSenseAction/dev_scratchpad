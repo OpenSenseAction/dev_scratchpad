{
 "cells": [
  {
   "cell_type": "markdown",
   "id": "c1c0f428-33c3-4a23-bf31-7b41ec1500d1",
   "metadata": {},
   "source": [
    "# Test FZ filter"
   ]
  },
  {
   "cell_type": "markdown",
   "id": "336a59ac-456c-488e-8f6b-79b36a27d7bf",
   "metadata": {},
   "source": [
    "## Parse AMS PWS data\n",
    "\n",
    "use code from training school"
   ]
  },
  {
   "cell_type": "code",
   "execution_count": 50,
   "id": "0395deb6-f3fd-4c48-8b5d-1d7e18dc6fbf",
   "metadata": {},
   "outputs": [],
   "source": [
    "import pandas as pd\n",
    "\n",
    "df_data = pd.read_csv('AMS_dataset.zip', sep=',', index_col='Time', parse_dates=True)\n",
    "\n",
    "df_metadata =  pd.read_csv('AMS_metadata.csv', sep=',', index_col='ID' )\n",
    "df_metadata.index = 'ams' + df_metadata.index.astype(str)"
   ]
  },
  {
   "cell_type": "code",
   "execution_count": 114,
   "id": "2d4cdeaa-aa4e-4eba-8d11-6d030d4c8ea0",
   "metadata": {},
   "outputs": [
    {
     "data": {
      "text/html": [
       "<div>\n",
       "<style scoped>\n",
       "    .dataframe tbody tr th:only-of-type {\n",
       "        vertical-align: middle;\n",
       "    }\n",
       "\n",
       "    .dataframe tbody tr th {\n",
       "        vertical-align: top;\n",
       "    }\n",
       "\n",
       "    .dataframe thead th {\n",
       "        text-align: right;\n",
       "    }\n",
       "</style>\n",
       "<table border=\"1\" class=\"dataframe\">\n",
       "  <thead>\n",
       "    <tr style=\"text-align: right;\">\n",
       "      <th></th>\n",
       "      <th>ams1</th>\n",
       "      <th>ams2</th>\n",
       "      <th>ams3</th>\n",
       "      <th>ams4</th>\n",
       "      <th>ams5</th>\n",
       "      <th>ams6</th>\n",
       "      <th>ams7</th>\n",
       "      <th>ams8</th>\n",
       "      <th>ams9</th>\n",
       "      <th>ams10</th>\n",
       "      <th>...</th>\n",
       "      <th>ams125</th>\n",
       "      <th>ams126</th>\n",
       "      <th>ams127</th>\n",
       "      <th>ams128</th>\n",
       "      <th>ams129</th>\n",
       "      <th>ams130</th>\n",
       "      <th>ams131</th>\n",
       "      <th>ams132</th>\n",
       "      <th>ams133</th>\n",
       "      <th>ams134</th>\n",
       "    </tr>\n",
       "    <tr>\n",
       "      <th>Time</th>\n",
       "      <th></th>\n",
       "      <th></th>\n",
       "      <th></th>\n",
       "      <th></th>\n",
       "      <th></th>\n",
       "      <th></th>\n",
       "      <th></th>\n",
       "      <th></th>\n",
       "      <th></th>\n",
       "      <th></th>\n",
       "      <th></th>\n",
       "      <th></th>\n",
       "      <th></th>\n",
       "      <th></th>\n",
       "      <th></th>\n",
       "      <th></th>\n",
       "      <th></th>\n",
       "      <th></th>\n",
       "      <th></th>\n",
       "      <th></th>\n",
       "      <th></th>\n",
       "    </tr>\n",
       "  </thead>\n",
       "  <tbody>\n",
       "    <tr>\n",
       "      <th>2016-05-01 00:05:00</th>\n",
       "      <td>0.0</td>\n",
       "      <td>NaN</td>\n",
       "      <td>0.0</td>\n",
       "      <td>NaN</td>\n",
       "      <td>NaN</td>\n",
       "      <td>NaN</td>\n",
       "      <td>0.0</td>\n",
       "      <td>0.0</td>\n",
       "      <td>NaN</td>\n",
       "      <td>NaN</td>\n",
       "      <td>...</td>\n",
       "      <td>NaN</td>\n",
       "      <td>0.0</td>\n",
       "      <td>NaN</td>\n",
       "      <td>NaN</td>\n",
       "      <td>NaN</td>\n",
       "      <td>NaN</td>\n",
       "      <td>NaN</td>\n",
       "      <td>NaN</td>\n",
       "      <td>NaN</td>\n",
       "      <td>0.0</td>\n",
       "    </tr>\n",
       "    <tr>\n",
       "      <th>2016-05-01 00:10:00</th>\n",
       "      <td>0.0</td>\n",
       "      <td>NaN</td>\n",
       "      <td>0.0</td>\n",
       "      <td>NaN</td>\n",
       "      <td>NaN</td>\n",
       "      <td>NaN</td>\n",
       "      <td>0.0</td>\n",
       "      <td>0.0</td>\n",
       "      <td>NaN</td>\n",
       "      <td>NaN</td>\n",
       "      <td>...</td>\n",
       "      <td>NaN</td>\n",
       "      <td>0.0</td>\n",
       "      <td>NaN</td>\n",
       "      <td>NaN</td>\n",
       "      <td>NaN</td>\n",
       "      <td>NaN</td>\n",
       "      <td>NaN</td>\n",
       "      <td>NaN</td>\n",
       "      <td>NaN</td>\n",
       "      <td>0.0</td>\n",
       "    </tr>\n",
       "    <tr>\n",
       "      <th>2016-05-01 00:15:00</th>\n",
       "      <td>0.0</td>\n",
       "      <td>NaN</td>\n",
       "      <td>0.0</td>\n",
       "      <td>NaN</td>\n",
       "      <td>NaN</td>\n",
       "      <td>NaN</td>\n",
       "      <td>0.0</td>\n",
       "      <td>0.0</td>\n",
       "      <td>NaN</td>\n",
       "      <td>NaN</td>\n",
       "      <td>...</td>\n",
       "      <td>NaN</td>\n",
       "      <td>0.0</td>\n",
       "      <td>NaN</td>\n",
       "      <td>NaN</td>\n",
       "      <td>NaN</td>\n",
       "      <td>NaN</td>\n",
       "      <td>NaN</td>\n",
       "      <td>NaN</td>\n",
       "      <td>NaN</td>\n",
       "      <td>0.0</td>\n",
       "    </tr>\n",
       "    <tr>\n",
       "      <th>2016-05-01 00:20:00</th>\n",
       "      <td>0.0</td>\n",
       "      <td>NaN</td>\n",
       "      <td>0.0</td>\n",
       "      <td>NaN</td>\n",
       "      <td>NaN</td>\n",
       "      <td>NaN</td>\n",
       "      <td>0.0</td>\n",
       "      <td>0.0</td>\n",
       "      <td>NaN</td>\n",
       "      <td>NaN</td>\n",
       "      <td>...</td>\n",
       "      <td>NaN</td>\n",
       "      <td>0.0</td>\n",
       "      <td>NaN</td>\n",
       "      <td>NaN</td>\n",
       "      <td>NaN</td>\n",
       "      <td>NaN</td>\n",
       "      <td>NaN</td>\n",
       "      <td>NaN</td>\n",
       "      <td>NaN</td>\n",
       "      <td>0.0</td>\n",
       "    </tr>\n",
       "    <tr>\n",
       "      <th>2016-05-01 00:25:00</th>\n",
       "      <td>0.0</td>\n",
       "      <td>NaN</td>\n",
       "      <td>0.0</td>\n",
       "      <td>NaN</td>\n",
       "      <td>NaN</td>\n",
       "      <td>NaN</td>\n",
       "      <td>0.0</td>\n",
       "      <td>0.0</td>\n",
       "      <td>NaN</td>\n",
       "      <td>NaN</td>\n",
       "      <td>...</td>\n",
       "      <td>NaN</td>\n",
       "      <td>0.0</td>\n",
       "      <td>NaN</td>\n",
       "      <td>NaN</td>\n",
       "      <td>NaN</td>\n",
       "      <td>NaN</td>\n",
       "      <td>NaN</td>\n",
       "      <td>NaN</td>\n",
       "      <td>NaN</td>\n",
       "      <td>0.0</td>\n",
       "    </tr>\n",
       "  </tbody>\n",
       "</table>\n",
       "<p>5 rows × 134 columns</p>\n",
       "</div>"
      ],
      "text/plain": [
       "                     ams1  ams2  ams3  ams4  ams5  ams6  ams7  ams8  ams9  \\\n",
       "Time                                                                        \n",
       "2016-05-01 00:05:00   0.0   NaN   0.0   NaN   NaN   NaN   0.0   0.0   NaN   \n",
       "2016-05-01 00:10:00   0.0   NaN   0.0   NaN   NaN   NaN   0.0   0.0   NaN   \n",
       "2016-05-01 00:15:00   0.0   NaN   0.0   NaN   NaN   NaN   0.0   0.0   NaN   \n",
       "2016-05-01 00:20:00   0.0   NaN   0.0   NaN   NaN   NaN   0.0   0.0   NaN   \n",
       "2016-05-01 00:25:00   0.0   NaN   0.0   NaN   NaN   NaN   0.0   0.0   NaN   \n",
       "\n",
       "                     ams10  ...  ams125  ams126  ams127  ams128  ams129  \\\n",
       "Time                        ...                                           \n",
       "2016-05-01 00:05:00    NaN  ...     NaN     0.0     NaN     NaN     NaN   \n",
       "2016-05-01 00:10:00    NaN  ...     NaN     0.0     NaN     NaN     NaN   \n",
       "2016-05-01 00:15:00    NaN  ...     NaN     0.0     NaN     NaN     NaN   \n",
       "2016-05-01 00:20:00    NaN  ...     NaN     0.0     NaN     NaN     NaN   \n",
       "2016-05-01 00:25:00    NaN  ...     NaN     0.0     NaN     NaN     NaN   \n",
       "\n",
       "                     ams130  ams131  ams132  ams133  ams134  \n",
       "Time                                                         \n",
       "2016-05-01 00:05:00     NaN     NaN     NaN     NaN     0.0  \n",
       "2016-05-01 00:10:00     NaN     NaN     NaN     NaN     0.0  \n",
       "2016-05-01 00:15:00     NaN     NaN     NaN     NaN     0.0  \n",
       "2016-05-01 00:20:00     NaN     NaN     NaN     NaN     0.0  \n",
       "2016-05-01 00:25:00     NaN     NaN     NaN     NaN     0.0  \n",
       "\n",
       "[5 rows x 134 columns]"
      ]
     },
     "execution_count": 114,
     "metadata": {},
     "output_type": "execute_result"
    }
   ],
   "source": [
    "df_data.head()"
   ]
  },
  {
   "cell_type": "code",
   "execution_count": 52,
   "id": "0d950a00-9e4d-4328-b5ac-94c2ce3f342b",
   "metadata": {},
   "outputs": [
    {
     "data": {
      "text/html": [
       "<div>\n",
       "<style scoped>\n",
       "    .dataframe tbody tr th:only-of-type {\n",
       "        vertical-align: middle;\n",
       "    }\n",
       "\n",
       "    .dataframe tbody tr th {\n",
       "        vertical-align: top;\n",
       "    }\n",
       "\n",
       "    .dataframe thead th {\n",
       "        text-align: right;\n",
       "    }\n",
       "</style>\n",
       "<table border=\"1\" class=\"dataframe\">\n",
       "  <thead>\n",
       "    <tr style=\"text-align: right;\">\n",
       "      <th></th>\n",
       "      <th>lon</th>\n",
       "      <th>lat</th>\n",
       "    </tr>\n",
       "    <tr>\n",
       "      <th>ID</th>\n",
       "      <th></th>\n",
       "      <th></th>\n",
       "    </tr>\n",
       "  </thead>\n",
       "  <tbody>\n",
       "    <tr>\n",
       "      <th>ams1</th>\n",
       "      <td>4.670664</td>\n",
       "      <td>52.305896</td>\n",
       "    </tr>\n",
       "    <tr>\n",
       "      <th>ams2</th>\n",
       "      <td>4.674940</td>\n",
       "      <td>52.302044</td>\n",
       "    </tr>\n",
       "    <tr>\n",
       "      <th>ams3</th>\n",
       "      <td>4.677275</td>\n",
       "      <td>52.308427</td>\n",
       "    </tr>\n",
       "    <tr>\n",
       "      <th>ams4</th>\n",
       "      <td>4.677554</td>\n",
       "      <td>52.346013</td>\n",
       "    </tr>\n",
       "    <tr>\n",
       "      <th>ams5</th>\n",
       "      <td>4.678593</td>\n",
       "      <td>52.318572</td>\n",
       "    </tr>\n",
       "  </tbody>\n",
       "</table>\n",
       "</div>"
      ],
      "text/plain": [
       "           lon        lat\n",
       "ID                       \n",
       "ams1  4.670664  52.305896\n",
       "ams2  4.674940  52.302044\n",
       "ams3  4.677275  52.308427\n",
       "ams4  4.677554  52.346013\n",
       "ams5  4.678593  52.318572"
      ]
     },
     "execution_count": 52,
     "metadata": {},
     "output_type": "execute_result"
    }
   ],
   "source": [
    "df_metadata.head()"
   ]
  },
  {
   "cell_type": "code",
   "execution_count": 53,
   "id": "a9a25fb3-997a-4c26-bcfd-8d5c8be21ad3",
   "metadata": {},
   "outputs": [
    {
     "data": {
      "text/html": [
       "<div>\n",
       "<style scoped>\n",
       "    .dataframe tbody tr th:only-of-type {\n",
       "        vertical-align: middle;\n",
       "    }\n",
       "\n",
       "    .dataframe tbody tr th {\n",
       "        vertical-align: top;\n",
       "    }\n",
       "\n",
       "    .dataframe thead th {\n",
       "        text-align: right;\n",
       "    }\n",
       "</style>\n",
       "<table border=\"1\" class=\"dataframe\">\n",
       "  <thead>\n",
       "    <tr style=\"text-align: right;\">\n",
       "      <th>ID</th>\n",
       "      <th>ams1</th>\n",
       "      <th>ams2</th>\n",
       "      <th>ams3</th>\n",
       "      <th>ams4</th>\n",
       "      <th>ams5</th>\n",
       "      <th>ams6</th>\n",
       "      <th>ams7</th>\n",
       "      <th>ams8</th>\n",
       "      <th>ams9</th>\n",
       "      <th>ams10</th>\n",
       "      <th>...</th>\n",
       "      <th>ams125</th>\n",
       "      <th>ams126</th>\n",
       "      <th>ams127</th>\n",
       "      <th>ams128</th>\n",
       "      <th>ams129</th>\n",
       "      <th>ams130</th>\n",
       "      <th>ams131</th>\n",
       "      <th>ams132</th>\n",
       "      <th>ams133</th>\n",
       "      <th>ams134</th>\n",
       "    </tr>\n",
       "    <tr>\n",
       "      <th>ID</th>\n",
       "      <th></th>\n",
       "      <th></th>\n",
       "      <th></th>\n",
       "      <th></th>\n",
       "      <th></th>\n",
       "      <th></th>\n",
       "      <th></th>\n",
       "      <th></th>\n",
       "      <th></th>\n",
       "      <th></th>\n",
       "      <th></th>\n",
       "      <th></th>\n",
       "      <th></th>\n",
       "      <th></th>\n",
       "      <th></th>\n",
       "      <th></th>\n",
       "      <th></th>\n",
       "      <th></th>\n",
       "      <th></th>\n",
       "      <th></th>\n",
       "      <th></th>\n",
       "    </tr>\n",
       "  </thead>\n",
       "  <tbody>\n",
       "    <tr>\n",
       "      <th>ams1</th>\n",
       "      <td>0.000000</td>\n",
       "      <td>0.005755</td>\n",
       "      <td>0.007079</td>\n",
       "      <td>0.040704</td>\n",
       "      <td>0.014951</td>\n",
       "      <td>0.011353</td>\n",
       "      <td>0.012118</td>\n",
       "      <td>0.024180</td>\n",
       "      <td>0.025316</td>\n",
       "      <td>0.061542</td>\n",
       "      <td>...</td>\n",
       "      <td>0.308785</td>\n",
       "      <td>0.313675</td>\n",
       "      <td>0.328607</td>\n",
       "      <td>0.347164</td>\n",
       "      <td>0.359986</td>\n",
       "      <td>0.360168</td>\n",
       "      <td>0.361374</td>\n",
       "      <td>0.385974</td>\n",
       "      <td>0.370516</td>\n",
       "      <td>0.376754</td>\n",
       "    </tr>\n",
       "    <tr>\n",
       "      <th>ams2</th>\n",
       "      <td>0.005755</td>\n",
       "      <td>0.000000</td>\n",
       "      <td>0.006797</td>\n",
       "      <td>0.044046</td>\n",
       "      <td>0.016927</td>\n",
       "      <td>0.005621</td>\n",
       "      <td>0.006418</td>\n",
       "      <td>0.018568</td>\n",
       "      <td>0.019796</td>\n",
       "      <td>0.056255</td>\n",
       "      <td>...</td>\n",
       "      <td>0.304804</td>\n",
       "      <td>0.310169</td>\n",
       "      <td>0.323730</td>\n",
       "      <td>0.344538</td>\n",
       "      <td>0.355295</td>\n",
       "      <td>0.355992</td>\n",
       "      <td>0.357133</td>\n",
       "      <td>0.383216</td>\n",
       "      <td>0.366216</td>\n",
       "      <td>0.372086</td>\n",
       "    </tr>\n",
       "    <tr>\n",
       "      <th>ams3</th>\n",
       "      <td>0.007079</td>\n",
       "      <td>0.006797</td>\n",
       "      <td>0.000000</td>\n",
       "      <td>0.037587</td>\n",
       "      <td>0.010230</td>\n",
       "      <td>0.010729</td>\n",
       "      <td>0.011604</td>\n",
       "      <td>0.020569</td>\n",
       "      <td>0.021293</td>\n",
       "      <td>0.061349</td>\n",
       "      <td>...</td>\n",
       "      <td>0.302027</td>\n",
       "      <td>0.306727</td>\n",
       "      <td>0.322570</td>\n",
       "      <td>0.340086</td>\n",
       "      <td>0.353740</td>\n",
       "      <td>0.353516</td>\n",
       "      <td>0.354762</td>\n",
       "      <td>0.378900</td>\n",
       "      <td>0.363943</td>\n",
       "      <td>0.370485</td>\n",
       "    </tr>\n",
       "    <tr>\n",
       "      <th>ams4</th>\n",
       "      <td>0.040704</td>\n",
       "      <td>0.044046</td>\n",
       "      <td>0.037587</td>\n",
       "      <td>0.000000</td>\n",
       "      <td>0.027460</td>\n",
       "      <td>0.048244</td>\n",
       "      <td>0.049104</td>\n",
       "      <td>0.054316</td>\n",
       "      <td>0.054103</td>\n",
       "      <td>0.097571</td>\n",
       "      <td>...</td>\n",
       "      <td>0.301831</td>\n",
       "      <td>0.302333</td>\n",
       "      <td>0.331443</td>\n",
       "      <td>0.328602</td>\n",
       "      <td>0.360238</td>\n",
       "      <td>0.354735</td>\n",
       "      <td>0.356594</td>\n",
       "      <td>0.368147</td>\n",
       "      <td>0.366294</td>\n",
       "      <td>0.376626</td>\n",
       "    </tr>\n",
       "    <tr>\n",
       "      <th>ams5</th>\n",
       "      <td>0.014951</td>\n",
       "      <td>0.016927</td>\n",
       "      <td>0.010230</td>\n",
       "      <td>0.027460</td>\n",
       "      <td>0.000000</td>\n",
       "      <td>0.020792</td>\n",
       "      <td>0.021648</td>\n",
       "      <td>0.028167</td>\n",
       "      <td>0.028374</td>\n",
       "      <td>0.070644</td>\n",
       "      <td>...</td>\n",
       "      <td>0.300270</td>\n",
       "      <td>0.303860</td>\n",
       "      <td>0.323348</td>\n",
       "      <td>0.335435</td>\n",
       "      <td>0.353886</td>\n",
       "      <td>0.352210</td>\n",
       "      <td>0.353623</td>\n",
       "      <td>0.374472</td>\n",
       "      <td>0.362956</td>\n",
       "      <td>0.370549</td>\n",
       "    </tr>\n",
       "    <tr>\n",
       "      <th>...</th>\n",
       "      <td>...</td>\n",
       "      <td>...</td>\n",
       "      <td>...</td>\n",
       "      <td>...</td>\n",
       "      <td>...</td>\n",
       "      <td>...</td>\n",
       "      <td>...</td>\n",
       "      <td>...</td>\n",
       "      <td>...</td>\n",
       "      <td>...</td>\n",
       "      <td>...</td>\n",
       "      <td>...</td>\n",
       "      <td>...</td>\n",
       "      <td>...</td>\n",
       "      <td>...</td>\n",
       "      <td>...</td>\n",
       "      <td>...</td>\n",
       "      <td>...</td>\n",
       "      <td>...</td>\n",
       "      <td>...</td>\n",
       "      <td>...</td>\n",
       "    </tr>\n",
       "    <tr>\n",
       "      <th>ams130</th>\n",
       "      <td>0.360168</td>\n",
       "      <td>0.355992</td>\n",
       "      <td>0.353516</td>\n",
       "      <td>0.354735</td>\n",
       "      <td>0.352210</td>\n",
       "      <td>0.352492</td>\n",
       "      <td>0.352321</td>\n",
       "      <td>0.339903</td>\n",
       "      <td>0.338175</td>\n",
       "      <td>0.339130</td>\n",
       "      <td>...</td>\n",
       "      <td>0.053712</td>\n",
       "      <td>0.069835</td>\n",
       "      <td>0.075021</td>\n",
       "      <td>0.119078</td>\n",
       "      <td>0.050289</td>\n",
       "      <td>0.000000</td>\n",
       "      <td>0.005999</td>\n",
       "      <td>0.118414</td>\n",
       "      <td>0.015446</td>\n",
       "      <td>0.051664</td>\n",
       "    </tr>\n",
       "    <tr>\n",
       "      <th>ams131</th>\n",
       "      <td>0.361374</td>\n",
       "      <td>0.357133</td>\n",
       "      <td>0.354762</td>\n",
       "      <td>0.356594</td>\n",
       "      <td>0.353623</td>\n",
       "      <td>0.353560</td>\n",
       "      <td>0.353375</td>\n",
       "      <td>0.340889</td>\n",
       "      <td>0.339172</td>\n",
       "      <td>0.339353</td>\n",
       "      <td>...</td>\n",
       "      <td>0.056668</td>\n",
       "      <td>0.074834</td>\n",
       "      <td>0.070643</td>\n",
       "      <td>0.125058</td>\n",
       "      <td>0.044532</td>\n",
       "      <td>0.005999</td>\n",
       "      <td>0.000000</td>\n",
       "      <td>0.124227</td>\n",
       "      <td>0.010683</td>\n",
       "      <td>0.045680</td>\n",
       "    </tr>\n",
       "    <tr>\n",
       "      <th>ams132</th>\n",
       "      <td>0.385974</td>\n",
       "      <td>0.383216</td>\n",
       "      <td>0.378900</td>\n",
       "      <td>0.368147</td>\n",
       "      <td>0.374472</td>\n",
       "      <td>0.381245</td>\n",
       "      <td>0.381350</td>\n",
       "      <td>0.370836</td>\n",
       "      <td>0.369007</td>\n",
       "      <td>0.383550</td>\n",
       "      <td>...</td>\n",
       "      <td>0.119311</td>\n",
       "      <td>0.090380</td>\n",
       "      <td>0.188397</td>\n",
       "      <td>0.039884</td>\n",
       "      <td>0.168700</td>\n",
       "      <td>0.118414</td>\n",
       "      <td>0.124227</td>\n",
       "      <td>0.000000</td>\n",
       "      <td>0.129853</td>\n",
       "      <td>0.168231</td>\n",
       "    </tr>\n",
       "    <tr>\n",
       "      <th>ams133</th>\n",
       "      <td>0.370516</td>\n",
       "      <td>0.366216</td>\n",
       "      <td>0.363943</td>\n",
       "      <td>0.366294</td>\n",
       "      <td>0.362956</td>\n",
       "      <td>0.362575</td>\n",
       "      <td>0.362376</td>\n",
       "      <td>0.349828</td>\n",
       "      <td>0.348123</td>\n",
       "      <td>0.347486</td>\n",
       "      <td>...</td>\n",
       "      <td>0.067171</td>\n",
       "      <td>0.085236</td>\n",
       "      <td>0.071655</td>\n",
       "      <td>0.133202</td>\n",
       "      <td>0.040940</td>\n",
       "      <td>0.015446</td>\n",
       "      <td>0.010683</td>\n",
       "      <td>0.129853</td>\n",
       "      <td>0.000000</td>\n",
       "      <td>0.038428</td>\n",
       "    </tr>\n",
       "    <tr>\n",
       "      <th>ams134</th>\n",
       "      <td>0.376754</td>\n",
       "      <td>0.372086</td>\n",
       "      <td>0.370485</td>\n",
       "      <td>0.376626</td>\n",
       "      <td>0.370549</td>\n",
       "      <td>0.368022</td>\n",
       "      <td>0.367735</td>\n",
       "      <td>0.354870</td>\n",
       "      <td>0.353246</td>\n",
       "      <td>0.347800</td>\n",
       "      <td>...</td>\n",
       "      <td>0.091501</td>\n",
       "      <td>0.117137</td>\n",
       "      <td>0.053336</td>\n",
       "      <td>0.170738</td>\n",
       "      <td>0.016957</td>\n",
       "      <td>0.051664</td>\n",
       "      <td>0.045680</td>\n",
       "      <td>0.168231</td>\n",
       "      <td>0.038428</td>\n",
       "      <td>0.000000</td>\n",
       "    </tr>\n",
       "  </tbody>\n",
       "</table>\n",
       "<p>134 rows × 134 columns</p>\n",
       "</div>"
      ],
      "text/plain": [
       "ID          ams1      ams2      ams3      ams4      ams5      ams6      ams7  \\\n",
       "ID                                                                             \n",
       "ams1    0.000000  0.005755  0.007079  0.040704  0.014951  0.011353  0.012118   \n",
       "ams2    0.005755  0.000000  0.006797  0.044046  0.016927  0.005621  0.006418   \n",
       "ams3    0.007079  0.006797  0.000000  0.037587  0.010230  0.010729  0.011604   \n",
       "ams4    0.040704  0.044046  0.037587  0.000000  0.027460  0.048244  0.049104   \n",
       "ams5    0.014951  0.016927  0.010230  0.027460  0.000000  0.020792  0.021648   \n",
       "...          ...       ...       ...       ...       ...       ...       ...   \n",
       "ams130  0.360168  0.355992  0.353516  0.354735  0.352210  0.352492  0.352321   \n",
       "ams131  0.361374  0.357133  0.354762  0.356594  0.353623  0.353560  0.353375   \n",
       "ams132  0.385974  0.383216  0.378900  0.368147  0.374472  0.381245  0.381350   \n",
       "ams133  0.370516  0.366216  0.363943  0.366294  0.362956  0.362575  0.362376   \n",
       "ams134  0.376754  0.372086  0.370485  0.376626  0.370549  0.368022  0.367735   \n",
       "\n",
       "ID          ams8      ams9     ams10  ...    ams125    ams126    ams127  \\\n",
       "ID                                    ...                                 \n",
       "ams1    0.024180  0.025316  0.061542  ...  0.308785  0.313675  0.328607   \n",
       "ams2    0.018568  0.019796  0.056255  ...  0.304804  0.310169  0.323730   \n",
       "ams3    0.020569  0.021293  0.061349  ...  0.302027  0.306727  0.322570   \n",
       "ams4    0.054316  0.054103  0.097571  ...  0.301831  0.302333  0.331443   \n",
       "ams5    0.028167  0.028374  0.070644  ...  0.300270  0.303860  0.323348   \n",
       "...          ...       ...       ...  ...       ...       ...       ...   \n",
       "ams130  0.339903  0.338175  0.339130  ...  0.053712  0.069835  0.075021   \n",
       "ams131  0.340889  0.339172  0.339353  ...  0.056668  0.074834  0.070643   \n",
       "ams132  0.370836  0.369007  0.383550  ...  0.119311  0.090380  0.188397   \n",
       "ams133  0.349828  0.348123  0.347486  ...  0.067171  0.085236  0.071655   \n",
       "ams134  0.354870  0.353246  0.347800  ...  0.091501  0.117137  0.053336   \n",
       "\n",
       "ID        ams128    ams129    ams130    ams131    ams132    ams133    ams134  \n",
       "ID                                                                            \n",
       "ams1    0.347164  0.359986  0.360168  0.361374  0.385974  0.370516  0.376754  \n",
       "ams2    0.344538  0.355295  0.355992  0.357133  0.383216  0.366216  0.372086  \n",
       "ams3    0.340086  0.353740  0.353516  0.354762  0.378900  0.363943  0.370485  \n",
       "ams4    0.328602  0.360238  0.354735  0.356594  0.368147  0.366294  0.376626  \n",
       "ams5    0.335435  0.353886  0.352210  0.353623  0.374472  0.362956  0.370549  \n",
       "...          ...       ...       ...       ...       ...       ...       ...  \n",
       "ams130  0.119078  0.050289  0.000000  0.005999  0.118414  0.015446  0.051664  \n",
       "ams131  0.125058  0.044532  0.005999  0.000000  0.124227  0.010683  0.045680  \n",
       "ams132  0.039884  0.168700  0.118414  0.124227  0.000000  0.129853  0.168231  \n",
       "ams133  0.133202  0.040940  0.015446  0.010683  0.129853  0.000000  0.038428  \n",
       "ams134  0.170738  0.016957  0.051664  0.045680  0.168231  0.038428  0.000000  \n",
       "\n",
       "[134 rows x 134 columns]"
      ]
     },
     "execution_count": 53,
     "metadata": {},
     "output_type": "execute_result"
    }
   ],
   "source": [
    "import scipy\n",
    "\n",
    "\n",
    "# This isn not correct since we use lon-lat and not projected coordinates...\n",
    "distance_matrix = scipy.spatial.distance_matrix(df_metadata.values, df_metadata.values)\n",
    "\n",
    "df_distance_matrix = pd.DataFrame(\n",
    "    index=df_metadata.index,\n",
    "    columns=df_metadata.index,\n",
    "    data=distance_matrix)\n",
    "df_distance_matrix"
   ]
  },
  {
   "cell_type": "code",
   "execution_count": 54,
   "id": "bdaf1ae8-ddc5-405f-859b-5d38b727a4e8",
   "metadata": {},
   "outputs": [
    {
     "data": {
      "image/png": "[encoded data removed]",
      "text/plain": [
       "<Figure size 640x480 with 1 Axes>"
      ]
     },
     "metadata": {},
     "output_type": "display_data"
    }
   ],
   "source": [
    "(df_distance_matrix < 0.1).sum().plot.hist(bins=np.arange(0, 120));"
   ]
  },
  {
   "cell_type": "markdown",
   "id": "65262f63-f79f-4f08-960b-602ef6e22a63",
   "metadata": {},
   "source": [
    "## Select one PWS and its neigbours within certain radius"
   ]
  },
  {
   "cell_type": "code",
   "execution_count": 93,
   "id": "7d9c9bfd-7c84-4c0a-914f-ce6ad2d0be34",
   "metadata": {},
   "outputs": [
    {
     "data": {
      "text/plain": [
       "array(['ams1', 'ams2', 'ams3', 'ams4', 'ams5', 'ams6', 'ams7', 'ams8',\n",
       "       'ams9', 'ams10', 'ams11', 'ams12', 'ams13', 'ams14', 'ams15',\n",
       "       'ams19', 'ams20', 'ams21'], dtype=object)"
      ]
     },
     "execution_count": 93,
     "metadata": {},
     "output_type": "execute_result"
    }
   ],
   "source": [
    "pws_id = 'ams2'\n",
    "\n",
    "neighbors_within_distance =  df_distance_matrix[pws_id] < 0.1 # note that this is in degeree lon-lat currently...\n",
    "\n",
    "neighbor_ids = df_distance_matrix.index.values[neighbors_within_distance]\n",
    "neighbor_ids"
   ]
  },
  {
   "cell_type": "code",
   "execution_count": 94,
   "id": "1bb39eec-fe9a-4006-8f87-58c6074338b4",
   "metadata": {},
   "outputs": [],
   "source": [
    "n1 = 143999\n",
    "n2 = 144036\n",
    "\n",
    "df_selected = df_data[pws_id][n1:n2]\n",
    "df_neighbors = df_data[neighbor_ids][n1:n2]"
   ]
  },
  {
   "cell_type": "code",
   "execution_count": null,
   "id": "c30112a8-ebc5-44a5-8c3d-3c035e46c8e2",
   "metadata": {},
   "outputs": [],
   "source": []
  },
  {
   "cell_type": "code",
   "execution_count": null,
   "id": "408de77b-829f-4a23-854d-931193d9f600",
   "metadata": {},
   "outputs": [],
   "source": []
  },
  {
   "cell_type": "code",
   "execution_count": null,
   "id": "8b39eb6a-865a-4bb4-83a8-1a7372466b83",
   "metadata": {},
   "outputs": [],
   "source": []
  },
  {
   "cell_type": "code",
   "execution_count": 116,
   "id": "1499895a-1793-4014-8fe8-5b5415c15b7f",
   "metadata": {},
   "outputs": [
    {
     "data": {
      "text/plain": [
       "Time\n",
       "2017-09-13 00:00:00    0.0\n",
       "2017-09-13 00:05:00    0.0\n",
       "2017-09-13 00:10:00    0.0\n",
       "2017-09-13 00:15:00    0.0\n",
       "2017-09-13 00:20:00    0.0\n",
       "Name: ams2, dtype: float64"
      ]
     },
     "execution_count": 116,
     "metadata": {},
     "output_type": "execute_result"
    }
   ],
   "source": [
    "df_selected.head()"
   ]
  },
  {
   "cell_type": "code",
   "execution_count": 120,
   "id": "292afdf4-4c4e-41e4-b375-59e87adeedd7",
   "metadata": {},
   "outputs": [
    {
     "data": {
      "text/plain": [
       "Time\n",
       "2017-09-13 00:00:00    0.101000\n",
       "2017-09-13 00:05:00    0.251361\n",
       "2017-09-13 00:10:00    0.101043\n",
       "2017-09-13 00:15:00    0.000000\n",
       "2017-09-13 00:20:00    0.050120\n",
       "dtype: float64"
      ]
     },
     "execution_count": 120,
     "metadata": {},
     "output_type": "execute_result"
    }
   ],
   "source": [
    "df_neighbors.median(axis=1).head()"
   ]
  },
  {
   "cell_type": "code",
   "execution_count": 95,
   "id": "4cfc80a1-f1b6-44bc-890b-c6c0a9ee3bef",
   "metadata": {},
   "outputs": [
    {
     "data": {
      "image/png": "[encoded data removed]",
      "text/plain": [
       "<Figure size 640x480 with 1 Axes>"
      ]
     },
     "metadata": {},
     "output_type": "display_data"
    },
    {
     "data": {
      "image/png": "[encoded data removed]",
      "text/plain": [
       "<Figure size 640x480 with 1 Axes>"
      ]
     },
     "metadata": {},
     "output_type": "display_data"
    }
   ],
   "source": [
    "df_selected.plot(linestyle='--')\n",
    "df_neighbors.plot(legend=False);"
   ]
  },
  {
   "cell_type": "markdown",
   "id": "80aaf093-6118-451a-bf0c-90fba1a57307",
   "metadata": {},
   "source": [
    "## run FZ filter code from training school"
   ]
  },
  {
   "cell_type": "code",
   "execution_count": 124,
   "id": "fc5f2ec1-65f1-467b-af62-2ce83205378f",
   "metadata": {},
   "outputs": [],
   "source": [
    "import numpy as np\n",
    "\n",
    "def FZ_filter(pws_data, reference, nint=6):\n",
    "    \n",
    "    Ref_array=np.zeros(np.shape(pws_data))\n",
    "    Ref_array[np.where(reference>0)]=1\n",
    "    \n",
    "    Sensor_array=np.zeros(np.shape(pws_data))\n",
    "    Sensor_array[np.where(pws_data>0)]=1\n",
    "    Sensor_array[np.where(pws_data==0)]=0\n",
    "    \n",
    "    FZ_array=np.ones(np.shape(pws_data))*-1\n",
    "\n",
    "    for i in np.arange(nint,np.shape(pws_data)[0]):\n",
    "        #print(i)\n",
    "        if len(np.ma.compressed(Ref_array[i]))==0: #als de vergelijkende waarde niet bestaat:\n",
    "                FZ_array[i]=-1\n",
    "        elif len(np.ma.compressed(Sensor_array[i]))==0: #als de meting een NAN is, dan vorige meting overnemen\n",
    "                FZ_array[i]=FZ_array[i-1]\n",
    "        else: #als er genoeg goede metingen zijn:\n",
    "            if Sensor_array[i]>0: #als er regen valt, geen FZ vlag\n",
    "                FZ_array[i]=0\n",
    "            else:\n",
    "                if FZ_array[i-1]==1: #als er geen regen valt en vorige meting ook al FZ, dan wederom afvlaggen\n",
    "                    FZ_array[i]=1\n",
    "                elif np.sum(Sensor_array[i-nint:i+1]) >0: #als er geen regen valt, maar ergens in het voorgaande wel: neit afvlaggen\n",
    "                    FZ_array[i]=0\n",
    "                else: #als er een serie nullen is van nint lengte\n",
    "                    if np.sum(Ref_array[i-nint:i+1]) <nint+1: #als de radar ook minstens af en toe nul of aangeeft: dan is alles prima, of is bepaald zonder nstat stations\n",
    "                        FZ_array[i]=0\n",
    "                    else: #dus als de sensor nul aangeeft, maar de radar niet nul (continu) in die periode\n",
    "                        FZ_array[i]=1\n",
    "     \n",
    "    return FZ_array "
   ]
  },
  {
   "cell_type": "code",
   "execution_count": 128,
   "id": "c9511a45-01a4-4730-9046-b1b7d9bd6523",
   "metadata": {},
   "outputs": [
    {
     "data": {
      "text/plain": [
       "array([0.   , 0.   , 0.   , 0.   , 0.   , 0.   , 0.   , 0.   , 0.   ,\n",
       "       0.   , 0.101, 0.   , 0.   , 0.   , 0.   , 0.   , 0.   , 0.   ,\n",
       "       0.   , 0.   , 0.101, 0.   , 0.   , 0.   , 0.   , 0.   , 0.   ,\n",
       "       0.   , 0.   , 0.   , 0.   , 0.   , 0.   , 0.   , 0.101, 0.   ,\n",
       "       0.   ])"
      ]
     },
     "execution_count": 128,
     "metadata": {},
     "output_type": "execute_result"
    }
   ],
   "source": [
    "df_selected.values"
   ]
  },
  {
   "cell_type": "code",
   "execution_count": 131,
   "id": "970e6300-a6ab-4759-b333-ce8034d8693d",
   "metadata": {},
   "outputs": [
    {
     "data": {
      "text/plain": [
       "array([0.101     , 0.25136087, 0.1010425 , 0.        , 0.05012029,\n",
       "       0.101     , 0.101     , 0.101     , 0.303     , 0.20048115,\n",
       "       0.202     , 0.202     , 0.202     , 0.303     , 0.202     ,\n",
       "       0.202     , 0.202     , 0.202     , 0.101     , 0.05012029,\n",
       "       0.101     , 0.10062029, 0.0505    , 0.        , 0.        ,\n",
       "       0.101     , 0.101     , 0.101     , 0.0505    , 0.        ,\n",
       "       0.        , 0.        , 0.        , 0.        , 0.        ,\n",
       "       0.        , 0.        ])"
      ]
     },
     "execution_count": 131,
     "metadata": {},
     "output_type": "execute_result"
    }
   ],
   "source": [
    "df_neighbors.median(axis=1).values"
   ]
  },
  {
   "cell_type": "code",
   "execution_count": 134,
   "id": "9ca1c58e-7fe0-4b44-bc20-bc87820585f6",
   "metadata": {},
   "outputs": [
    {
     "data": {
      "text/plain": [
       "array([-1., -1., -1., -1., -1., -1.,  0.,  0.,  0.,  0.,  0.,  0.,  0.,\n",
       "        0.,  0.,  0.,  0.,  1.,  1.,  1.,  0.,  0.,  0.,  0.,  0.,  0.,\n",
       "        0.,  0.,  0.,  0.,  0.,  0.,  0.,  0.,  0.,  0.,  0.])"
      ]
     },
     "execution_count": 134,
     "metadata": {},
     "output_type": "execute_result"
    }
   ],
   "source": [
    "fz_filter_results = FZ_filter(\n",
    "    pws_data=df_selected.values, \n",
    "    reference=df_neighbors.median(axis=1).values,\n",
    "    nint=6,\n",
    ")\n",
    "fz_filter_results"
   ]
  },
  {
   "cell_type": "code",
   "execution_count": 126,
   "id": "ecef2fc6-ae24-4519-86b9-c3f065154546",
   "metadata": {},
   "outputs": [
    {
     "data": {
      "image/png": "[encoded data removed]",
      "text/plain": [
       "<Figure size 640x480 with 1 Axes>"
      ]
     },
     "metadata": {},
     "output_type": "display_data"
    }
   ],
   "source": [
    "df_selected.plot(marker='o')\n",
    "df_neighbors.median(axis=1).plot()\n",
    "\n",
    "df_fz_filter_results = pd.Series(index=df_selected.index, data=fz_filter_results)\n",
    "(0.03 * df_fz_filter_results).plot(color='r');"
   ]
  },
  {
   "cell_type": "markdown",
   "id": "d0e794e6-36f9-4860-a4ce-b4dba0ed2864",
   "metadata": {},
   "source": [
    "# Check what `np.ma.compressed` does"
   ]
  },
  {
   "cell_type": "code",
   "execution_count": 140,
   "id": "d7ffe877-8f78-44e7-b58d-6ad0daf8ea20",
   "metadata": {},
   "outputs": [
    {
     "data": {
      "text/plain": [
       "array([0.1, 0.2, 0.1, nan, 0. ])"
      ]
     },
     "execution_count": 140,
     "metadata": {},
     "output_type": "execute_result"
    }
   ],
   "source": [
    "# Set up a simple array with a NaN\n",
    "x = np.array([0.1, 0.2, 0.1 , np.NaN , 0.0])\n",
    "x"
   ]
  },
  {
   "cell_type": "code",
   "execution_count": 145,
   "id": "b900e811-63b6-4a67-bc57-c98dbc0e05f6",
   "metadata": {},
   "outputs": [
    {
     "data": {
      "text/plain": [
       "array([nan])"
      ]
     },
     "execution_count": 145,
     "metadata": {},
     "output_type": "execute_result"
    }
   ],
   "source": [
    "# This just returns the NaN at index 3\n",
    "np.ma.compressed(x[3])"
   ]
  },
  {
   "cell_type": "code",
   "execution_count": 147,
   "id": "0e7e80b5-33e6-4f1b-b3f3-59ef02562737",
   "metadata": {},
   "outputs": [
    {
     "data": {
      "text/plain": [
       "1"
      ]
     },
     "execution_count": 147,
     "metadata": {},
     "output_type": "execute_result"
    }
   ],
   "source": [
    "# As a results, length is 1\n",
    "len(np.ma.compressed(x[3]))"
   ]
  },
  {
   "cell_type": "code",
   "execution_count": 158,
   "id": "8c0ba311-002f-4369-bd87-f8050d3d1b52",
   "metadata": {},
   "outputs": [
    {
     "data": {
      "text/plain": [
       "masked_array(data=[0.1, 0.2, 0.1, --, 0.0],\n",
       "             mask=[False, False, False,  True, False],\n",
       "       fill_value=1e+20)"
      ]
     },
     "execution_count": 158,
     "metadata": {},
     "output_type": "execute_result"
    }
   ],
   "source": [
    "# Now create a \"masked\" array with the NaN at index 3 masked out\n",
    "x_masked = np.ma.array(x, mask=np.isnan(x))\n",
    "x_masked"
   ]
  },
  {
   "cell_type": "code",
   "execution_count": 159,
   "id": "7e138466-085b-4929-982a-9fee541639ff",
   "metadata": {},
   "outputs": [
    {
     "data": {
      "text/plain": [
       "array([], dtype=float64)"
      ]
     },
     "execution_count": 159,
     "metadata": {},
     "output_type": "execute_result"
    }
   ],
   "source": [
    "# Now an empty array is returned at index 3\n",
    "np.ma.compressed(x_masked[3])"
   ]
  },
  {
   "cell_type": "code",
   "execution_count": 160,
   "id": "dc35f3d1-69d4-44e0-a5ee-87b6a6131b9c",
   "metadata": {},
   "outputs": [
    {
     "data": {
      "text/plain": [
       "0"
      ]
     },
     "execution_count": 160,
     "metadata": {},
     "output_type": "execute_result"
    }
   ],
   "source": [
    "# As a results, length is now 0 here\n",
    "len(np.ma.compressed(x_masked[3]))"
   ]
  },
  {
   "cell_type": "code",
   "execution_count": null,
   "id": "93152d53-ce4e-4914-8790-507153239b7c",
   "metadata": {},
   "outputs": [],
   "source": []
  }
 ],
 "metadata": {
  "kernelspec": {
   "display_name": "Python 3 (ipykernel)",
   "language": "python",
   "name": "python3"
  },
  "language_info": {
   "codemirror_mode": {
    "name": "ipython",
    "version": 3
   },
   "file_extension": ".py",
   "mimetype": "text/x-python",
   "name": "python",
   "nbconvert_exporter": "python",
   "pygments_lexer": "ipython3",
   "version": "3.10.8"
  }
 },
 "nbformat": 4,
 "nbformat_minor": 5
}
